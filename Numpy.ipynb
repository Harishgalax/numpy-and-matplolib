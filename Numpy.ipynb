{
  "nbformat": 4,
  "nbformat_minor": 0,
  "metadata": {
    "colab": {
      "provenance": [],
      "authorship_tag": "ABX9TyOWCpu/z6sJzP8uLNlI0q3S",
      "include_colab_link": true
    },
    "kernelspec": {
      "name": "python3",
      "display_name": "Python 3"
    },
    "language_info": {
      "name": "python"
    }
  },
  "cells": [
    {
      "cell_type": "markdown",
      "metadata": {
        "id": "view-in-github",
        "colab_type": "text"
      },
      "source": [
        "<a href=\"https://colab.research.google.com/github/Harishgalax/Data-Structure-and-Algorithm/blob/main/Numpy.ipynb\" target=\"_parent\"><img src=\"https://colab.research.google.com/assets/colab-badge.svg\" alt=\"Open In Colab\"/></a>"
      ]
    },
    {
      "cell_type": "code",
      "source": [
        "import numpy as np\n",
        "import time\n",
        "import sys\n",
        "\n",
        "l= range(1000)\n",
        "print(sys.getsizeof(5)*len(l))\n",
        "\n",
        "array = np.arange(1000)\n",
        "print(array.size*array.itemsize)"
      ],
      "metadata": {
        "colab": {
          "base_uri": "https://localhost:8080/"
        },
        "id": "sh8tqSsba2gh",
        "outputId": "2403379f-be2e-4ec4-e9fd-604fca0c41aa"
      },
      "execution_count": null,
      "outputs": [
        {
          "output_type": "stream",
          "name": "stdout",
          "text": [
            "28000\n",
            "8000\n"
          ]
        }
      ]
    },
    {
      "cell_type": "code",
      "source": [
        "import numpy as np\n",
        "import time\n",
        "import sys\n",
        "\n",
        "SIZE = 1000000\n",
        "\n",
        "l1= range(SIZE)\n",
        "l2= range(SIZE)\n",
        "a1 = np.arange(SIZE)\n",
        "a2 = np.arange(SIZE)\n",
        "\n",
        "#python list\n",
        "start = time.time()\n",
        "result = [(x+y) for x,y in zip(l1,l2)]\n",
        "print(\"python list took:\",(time.time()-start)*1000)\n",
        "\n",
        "#numpy array\n",
        "start = time.time()\n",
        "result = a1 + a2\n",
        "print(\"numpy array took:\",(time.time()-start)*1000)\n"
      ],
      "metadata": {
        "colab": {
          "base_uri": "https://localhost:8080/"
        },
        "id": "Fm_ug9Uc5US_",
        "outputId": "31ecf744-b26e-42fe-d81e-31b7277ce5aa"
      },
      "execution_count": null,
      "outputs": [
        {
          "output_type": "stream",
          "name": "stdout",
          "text": [
            "python list took: 121.85144424438477\n",
            "numpy array took: 25.79021453857422\n"
          ]
        }
      ]
    },
    {
      "cell_type": "markdown",
      "source": [],
      "metadata": {
        "id": "FJBeYFNJ6bTq"
      }
    },
    {
      "cell_type": "code",
      "source": [
        "import numpy as np\n",
        "#for one dimentional array\n",
        "a=np.array([5,6,9])\n",
        "a[0]\n",
        "a[1]\n",
        "a[2]\n",
        "a[0:2]\n",
        "a[1:]\n",
        "a.ndim\n",
        "a.size\n",
        "a.dtype\n",
        "a.shape\n",
        "a.itemsize\n",
        "#for 2 dimensional array\n",
        "a=np.array([[1,2,3],[4,5,6]])\n",
        "a[0]\n",
        "a[1]\n",
        "a[0][0]\n",
        "a[1][1]\n",
        "a.ndim\n",
        "a.size\n",
        "a.dtype\n",
        "a.shape\n",
        "a.itemsize\n",
        "#for complex datatype\n",
        "a=np.array([[1,2,3],[4,5,6]],dtype=complex)\n",
        "a[0]\n",
        "#for initializing array with all zeroes/ones\n",
        "import numpy as np\n",
        "np.zeros((2,3))\n",
        "np.ones((2,3))\n",
        "#to create an array\n",
        "np.arange(1,5)#array will be from 1 to 4\n",
        "np.arange(1,5,2)#array will be from 1 to 4 with step\n",
        "np.linspace(1,5,4)#array will be from 1 to 5 with 2 elements\n",
        "#reshape of array\n",
        "a=np.arange(1,10)\n",
        "a.reshape(3,3) #reshape array\n",
        "a.reshape(3,3).T #transpose of array\n",
        "\n",
        "a=np.array([[1,2],\n",
        "       [3,4],\n",
        "        [5,6]])\n",
        "a.min()\n",
        "a.max()\n",
        "a.sum()\n",
        "a.mean()\n",
        "a.std()\n",
        "a.var()\n",
        "\n",
        "\n"
      ],
      "metadata": {
        "colab": {
          "base_uri": "https://localhost:8080/"
        },
        "id": "jedawRmG6fnu",
        "outputId": "f0507d03-9e26-482c-df66-43a16f969b7f"
      },
      "execution_count": null,
      "outputs": [
        {
          "output_type": "execute_result",
          "data": {
            "text/plain": [
              "array([2, 3, 4, 5, 6, 7, 8, 9])"
            ]
          },
          "metadata": {},
          "execution_count": 24
        }
      ]
    },
    {
      "cell_type": "code",
      "source": [
        "import numpy as np\n",
        "#indexing and slicing\n",
        "a=np.arange(1,10)\n",
        "a[0] # printing list of only first element\n",
        "a[1] # printing list of only second element\n",
        "a[2] # printing list of only third element\n",
        "a[0:2] # printing list of first two elements\n",
        "a[1:] # printing list of second to last element\n",
        "a[-1] # printing list of last element\n",
        "a[-2] # printing list of second last element\n",
        "#iterating through arrays\n",
        "for i in a:\n",
        "    print(i) #flattening of array\n",
        "\n",
        "\n",
        "\n",
        "\n",
        "#stacking together two arrays\n",
        "a=np.arange(6).reshape(3,2) #taking from 0 to 5 and creating array of 3x2\n",
        "b=np.arange(6,12).reshape(3,2) #taking from 6 to 11 and creating array of 3x2\n",
        "np.vstack((a,b)) #stacking array vertically\n",
        "np.hstack((a,b)) #stacking array horizontally\n",
        "a=np.arange(30).reshape(2,15) #taking from 0 to 29 and creating array of 2x15\n",
        "b=np.arange(15).reshape(15,1) #taking from 0 to 14 and creating array of 15x1\n",
        "np.hsplit(a,3) #splitting array horizontally\n",
        "np.vsplit(b,3) #splitting array vertically\n",
        "\n",
        "# The line below caused the error. To fix, transpose 'b' before stacking\n",
        "np.vstack((a,b.T)) # Now the number of columns match for vertical stacking\n",
        "\n",
        "\n",
        "#indexing with boolean arrays"
      ],
      "metadata": {
        "colab": {
          "base_uri": "https://localhost:8080/"
        },
        "id": "22TVpZxICMCQ",
        "outputId": "0b3b32e1-150b-4f76-a937-399dc6bed24d"
      },
      "execution_count": null,
      "outputs": [
        {
          "output_type": "stream",
          "name": "stdout",
          "text": [
            "1\n",
            "2\n",
            "3\n",
            "4\n",
            "5\n",
            "6\n",
            "7\n",
            "8\n",
            "9\n"
          ]
        },
        {
          "output_type": "execute_result",
          "data": {
            "text/plain": [
              "array([[ 0,  1,  2,  3,  4,  5,  6,  7,  8,  9, 10, 11, 12, 13, 14],\n",
              "       [15, 16, 17, 18, 19, 20, 21, 22, 23, 24, 25, 26, 27, 28, 29],\n",
              "       [ 0,  1,  2,  3,  4,  5,  6,  7,  8,  9, 10, 11, 12, 13, 14]])"
            ]
          },
          "metadata": {},
          "execution_count": 4
        }
      ]
    },
    {
      "cell_type": "code",
      "source": [
        "import numpy as np\n",
        "a= np.arange(12).reshape(3,4)\n",
        "a # 0,1,2,3\n",
        "  # 4,5,6,7\n",
        "  # 8,9,10,11\n",
        "for row in a:\n",
        "    for cell in row:\n",
        "      print(cell)#o/p : vertically 1 to 11\n"
      ],
      "metadata": {
        "colab": {
          "base_uri": "https://localhost:8080/"
        },
        "id": "DA_gSR5ufifk",
        "outputId": "f5c799d0-0bda-4656-8186-7ecc683a04fd"
      },
      "execution_count": null,
      "outputs": [
        {
          "output_type": "stream",
          "name": "stdout",
          "text": [
            "0\n",
            "1\n",
            "2\n",
            "3\n",
            "4\n",
            "5\n",
            "6\n",
            "7\n",
            "8\n",
            "9\n",
            "10\n",
            "11\n"
          ]
        }
      ]
    },
    {
      "cell_type": "code",
      "source": [
        "for x in np.nditer(a,order='F'):\n",
        "  print(x)#printing vertically each column wise"
      ],
      "metadata": {
        "colab": {
          "base_uri": "https://localhost:8080/"
        },
        "id": "OsiIkq_MmInN",
        "outputId": "ff57262a-cd1b-41ca-d967-c402f2a835ff"
      },
      "execution_count": null,
      "outputs": [
        {
          "output_type": "stream",
          "name": "stdout",
          "text": [
            "0\n",
            "4\n",
            "8\n",
            "1\n",
            "5\n",
            "9\n",
            "2\n",
            "6\n",
            "10\n",
            "3\n",
            "7\n",
            "11\n"
          ]
        }
      ]
    },
    {
      "cell_type": "code",
      "source": [
        "for x in np.nditer(a,order='C'):\n",
        "  print(x)#printing each row wise vertically"
      ],
      "metadata": {
        "colab": {
          "base_uri": "https://localhost:8080/"
        },
        "id": "jRGiufkZnAsO",
        "outputId": "d352859e-ee2c-41a7-ff1b-3e687804749d"
      },
      "execution_count": null,
      "outputs": [
        {
          "output_type": "stream",
          "name": "stdout",
          "text": [
            "0\n",
            "1\n",
            "2\n",
            "3\n",
            "4\n",
            "5\n",
            "6\n",
            "7\n",
            "8\n",
            "9\n",
            "10\n",
            "11\n"
          ]
        }
      ]
    }
  ]
}